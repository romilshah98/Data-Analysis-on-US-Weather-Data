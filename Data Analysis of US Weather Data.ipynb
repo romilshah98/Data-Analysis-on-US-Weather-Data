{
 "cells": [
  {
   "cell_type": "markdown",
   "metadata": {},
   "source": [
    "## Data Analysis on US Weather Data"
   ]
  },
  {
   "cell_type": "code",
   "execution_count": 2,
   "metadata": {},
   "outputs": [],
   "source": [
    "import numpy as np\n",
    "import pandas as pd\n",
    "import datetime\n"
   ]
  },
  {
   "cell_type": "code",
   "execution_count": 4,
   "metadata": {},
   "outputs": [],
   "source": [
    "weatherfile = \"E:/Big data/US_WeatherEvents_2016-2019.csv\"\n",
    "weather_df = pd.read_csv(weatherfile)"
   ]
  },
  {
   "cell_type": "markdown",
   "metadata": {},
   "source": [
    "As can be seen there are 13 columns, which described below.\n",
    "\n",
    "1. EventId - This is the identifier of a record.\n",
    "2. Type - The type of an event; examples are rain, fog. snow storm, cold.\n",
    "3. Severity - The severity of an event, wherever applicable.\n",
    "4. StartTime(UTC) - The start time of an event in UTC time zone.\n",
    "5. EndTime(UTC) - The end time of an event in UTC time zone.\n",
    "6. TimeZone - The US-based timezone based on the location of an event (eastern, central, mountain, and pacific).\n",
    "7. AirportCode - The airport station that a weather event is reported from.\n",
    "8. LocationLat - The latitude in GPS coordinate.\n",
    "9. LocationLng - The longitude in GPS coordinate.\n",
    "10. City - The city in address record.\n",
    "11. County - The county in address record.\n",
    "12. State - The state in address record.\n",
    "13. ZipCode - The zipcode in address record."
   ]
  },
  {
   "cell_type": "markdown",
   "metadata": {},
   "source": [
    "## Question 1\n",
    "How many snow events were recorded?"
   ]
  },
  {
   "cell_type": "markdown",
   "metadata": {},
   "source": [
    "Basically we can just use groupby. I created functions to run on the dataset. column_group_percent makes it easier to understand the relative values of the result. The question asked about snow events but it is less work to compute the count for all weather types."
   ]
  },
  {
   "cell_type": "code",
   "execution_count": 5,
   "metadata": {},
   "outputs": [],
   "source": [
    "def column_group_count(df, column):\n",
    "    return df.groupby(column).size()\n",
    "\n",
    "def column_group_percent(df, column):\n",
    "    count_groupby = column_group_count(df, column)\n",
    "    total = count_groupby.sum()\n",
    "    return (count_groupby/total) * 100\n"
   ]
  },
  {
   "cell_type": "code",
   "execution_count": 6,
   "metadata": {},
   "outputs": [
    {
     "data": {
      "text/plain": [
       "Type\n",
       "Rain             3067581\n",
       "Fog              1068653\n",
       "Snow              679472\n",
       "Cold              141626\n",
       "Precipitation      67299\n",
       "Storm              32688\n",
       "Hail                2514\n",
       "dtype: int64"
      ]
     },
     "execution_count": 6,
     "metadata": {},
     "output_type": "execute_result"
    }
   ],
   "source": [
    "column_group_count(weather_df,'Type').sort_values(ascending = False)"
   ]
  },
  {
   "cell_type": "code",
   "execution_count": 7,
   "metadata": {},
   "outputs": [
    {
     "data": {
      "text/plain": [
       "Type\n",
       "Rain             60.626131\n",
       "Fog              21.120322\n",
       "Snow             13.428744\n",
       "Cold              2.799025\n",
       "Precipitation     1.330064\n",
       "Storm             0.646029\n",
       "Hail              0.049685\n",
       "dtype: float64"
      ]
     },
     "execution_count": 7,
     "metadata": {},
     "output_type": "execute_result"
    }
   ],
   "source": [
    "column_group_percent(weather_df, 'Type').sort_values(ascending = False)"
   ]
  },
  {
   "cell_type": "markdown",
   "metadata": {},
   "source": [
    "So there were 679472 snow events, or 13.4% of the weather events were snow. Interestly fog was the second most common weather event and 60% of the weather events were rain."
   ]
  },
  {
   "cell_type": "markdown",
   "metadata": {},
   "source": [
    "## Question 2\n",
    "How many moderate snow events were recorded each year? Produce a table and line plot"
   ]
  },
  {
   "cell_type": "markdown",
   "metadata": {},
   "source": [
    "The key observation is to create a function years that accepts a start timestamp and an end timestamp. It returns a list of start year if the start and end are in the same year, otherwise it returns a list containing both the start and end year.\n",
    "\n",
    "We can then apply this function to the start and end time columns of the weather dataframe. We then use explode to flatten the result into a Series of years. Then just use value_counts to collect the number of events per year.\n",
    "\n",
    "The needed function:"
   ]
  },
  {
   "cell_type": "code",
   "execution_count": 8,
   "metadata": {},
   "outputs": [],
   "source": [
    "def year_from_date(date_string):\n",
    "    \"\"\"string format 2016-01-17 11:38:00\n",
    "    returns year string, ie 2016\"\"\"\n",
    "    \n",
    "    return date_string.split('-')[0]\n",
    "\n",
    "def years(start_date, end_date):\n",
    "    \"\"\"Assumes that start and end are at most 1 year a part\n",
    "    Returns\n",
    "        if start and end year are the same return that year in a list\n",
    "        else return both years in a list\"\"\"\n",
    "    \n",
    "    start_year = year_from_date(start_date)\n",
    "    end_year = year_from_date(end_date)\n",
    "    if (start_year == end_year):\n",
    "        return [start_year]\n",
    "    else:\n",
    "        return [start_year, end_year]\n",
    "\n",
    "def df_years(a_series):\n",
    "    \"\"\"Same as years, but start and end dates are in a series\n",
    "    Needs for apply function\"\"\"\n",
    "    \n",
    "    return years(a_series[0], a_series[1])\n",
    "\n",
    "def select_weather(df, type, severity):\n",
    "    \"\"\"df = a_weather_df\n",
    "    Returns all rows with given type and severity\"\"\"\n",
    "    \n",
    "    return df.loc[(df['Type'] == type) & (df['Severity'] == severity)]\n",
    "\n",
    "def count_time(a_weather_df, time_fn):\n",
    "    date_time_df = a_weather_df[['StartTime(UTC)', 'EndTime(UTC)']]\n",
    "    series_of_lists_time = date_time_df.apply(time_fn, axis = 1)\n",
    "    series_of_time = series_of_lists_time.explode()\n",
    "    return series_of_time.value_counts().sort_index()\n"
   ]
  },
  {
   "cell_type": "markdown",
   "metadata": {},
   "source": [
    "Now the answer to the question - Moderate snow events per year"
   ]
  },
  {
   "cell_type": "code",
   "execution_count": 9,
   "metadata": {},
   "outputs": [
    {
     "data": {
      "text/plain": [
       "2016    16900\n",
       "2017    15780\n",
       "2018    18686\n",
       "2019    22290\n",
       "dtype: int64"
      ]
     },
     "execution_count": 9,
     "metadata": {},
     "output_type": "execute_result"
    }
   ],
   "source": [
    "moderate_snow = select_weather(weather_df, 'Snow', 'Moderate')\n",
    "moderate_snow_counts = count_time(moderate_snow, df_years)\n",
    "moderate_snow_counts"
   ]
  },
  {
   "cell_type": "code",
   "execution_count": 10,
   "metadata": {},
   "outputs": [
    {
     "data": {
      "text/plain": [
       "<matplotlib.axes._subplots.AxesSubplot at 0x24bb5093048>"
      ]
     },
     "execution_count": 10,
     "metadata": {},
     "output_type": "execute_result"
    }
   ],
   "source": [
    "moderate_snow_counts.plot()"
   ]
  },
  {
   "cell_type": "markdown",
   "metadata": {},
   "source": [
    "Did it snow more the last two years? We can look at all snow events."
   ]
  },
  {
   "cell_type": "code",
   "execution_count": 11,
   "metadata": {},
   "outputs": [
    {
     "data": {
      "text/plain": [
       "<matplotlib.axes._subplots.AxesSubplot at 0x24bc2f858c8>"
      ]
     },
     "execution_count": 11,
     "metadata": {},
     "output_type": "execute_result"
    },
    {
     "data": {
      "image/png": "[encoded data removed]",
      "text/plain": [
       "<Figure size 432x288 with 1 Axes>"
      ]
     },
     "metadata": {
      "needs_background": "light"
     },
     "output_type": "display_data"
    }
   ],
   "source": [
    "def yearly_weather(a_weather_df, type):\n",
    "    yearly = a_weather_df.loc[a_weather_df['Type'] == type]\n",
    "    return count_time(yearly, df_years)\n",
    "\n",
    "yearly_weather(weather_df, 'Snow').plot()"
   ]
  },
  {
   "cell_type": "markdown",
   "metadata": {},
   "source": [
    "And what about rain?"
   ]
  },
  {
   "cell_type": "code",
   "execution_count": 12,
   "metadata": {},
   "outputs": [
    {
     "data": {
      "text/plain": [
       "<matplotlib.axes._subplots.AxesSubplot at 0x24c40ad7248>"
      ]
     },
     "execution_count": 12,
     "metadata": {},
     "output_type": "execute_result"
    },
    {
     "data": {
      "image/png": "[encoded data removed]",
      "text/plain": [
       "<Figure size 432x288 with 1 Axes>"
      ]
     },
     "metadata": {
      "needs_background": "light"
     },
     "output_type": "display_data"
    }
   ],
   "source": [
    "yearly_weather(weather_df,'Rain').plot()"
   ]
  },
  {
   "cell_type": "markdown",
   "metadata": {},
   "source": [
    "## Question 3\n",
    "How many snow events were recorded in each state?"
   ]
  },
  {
   "cell_type": "markdown",
   "metadata": {},
   "source": [
    "The funtion column_group_count already computes this for us. We just need to first select just Snow events."
   ]
  },
  {
   "cell_type": "code",
   "execution_count": 13,
   "metadata": {},
   "outputs": [
    {
     "data": {
      "text/plain": [
       "State\n",
       "MI    76455\n",
       "MN    74201\n",
       "WI    46691\n",
       "WY    43646\n",
       "CO    38218\n",
       "ND    33522\n",
       "NY    28592\n",
       "IA    26408\n",
       "MT    23906\n",
       "OH    20848\n",
       "PA    19555\n",
       "ID    19491\n",
       "IL    17429\n",
       "NE    16751\n",
       "SD    16491\n",
       "ME    13821\n",
       "IN    12838\n",
       "WA    12737\n",
       "VT    10124\n",
       "NH     9856\n",
       "MA     9595\n",
       "VA     9012\n",
       "OR     8988\n",
       "CA     8727\n",
       "WV     8423\n",
       "UT     8386\n",
       "NM     7561\n",
       "NV     5852\n",
       "KS     5758\n",
       "MO     5662\n",
       "KY     5449\n",
       "AZ     4973\n",
       "NC     4820\n",
       "NJ     3695\n",
       "TX     3351\n",
       "CT     3200\n",
       "OK     3078\n",
       "MD     2842\n",
       "RI     1530\n",
       "AR     1461\n",
       "TN     1302\n",
       "GA     1021\n",
       "SC      837\n",
       "AL      701\n",
       "DE      663\n",
       "MS      535\n",
       "LA      401\n",
       "FL       69\n",
       "dtype: int64"
      ]
     },
     "execution_count": 13,
     "metadata": {},
     "output_type": "execute_result"
    }
   ],
   "source": [
    "def snow_per_state(a_weather_df):\n",
    "    snow_df =  a_weather_df[a_weather_df['Type'] == 'Snow']\n",
    "    return column_group_count(snow_df,'State')\n",
    "\n",
    "snow_per_state(weather_df).sort_values(ascending = False)"
   ]
  },
  {
   "cell_type": "markdown",
   "metadata": {},
   "source": [
    "For the most part the results make sense. But some states are smaller than others so even though they get more snow they have fewer reporting stations. The reporting stations appear to be indicated by airport. So we will calculate the number of snow events per reporting station in each state.   "
   ]
  },
  {
   "cell_type": "code",
   "execution_count": 14,
   "metadata": {},
   "outputs": [],
   "source": [
    "def stations_per_state(a_weather_df):\n",
    "    \"\"\"Returns\n",
    "    Series of number of reporting stations per state as indicated by Airport codes\"\"\"\n",
    "    \n",
    "    state_airport_df = a_weather_df[['State','AirportCode']]\n",
    "    return state_airport_df.groupby('State').nunique()['AirportCode']\n",
    "\n",
    "def snow_per_state_station(a_weather_df):\n",
    "    \"\"\"Returns\n",
    "    Series - average number of snow events per station in each state\"\"\" \n",
    "    \n",
    "    snow_state = snow_per_state(a_weather_df)\n",
    "    stations_state = stations_per_state(a_weather_df)\n",
    "    return snow_state / stations_state\n",
    "\n",
    "def combined_snow_events_stations(a_wether_df):\n",
    "    \"\"\"Returns\n",
    "    Dataframe with two columns, one row per state\n",
    "    Columns:\n",
    "        Snow Events = snow events per state\n",
    "        Events/Station = average number of snow events per station in each state\n",
    "    \"\"\"\n",
    "     \n",
    "    snow_station = snow_per_state_station(weather_df)\n",
    "    snow_state = snow_per_state(weather_df)\n",
    "    combined = pd.concat([snow_state, snow_station], axis = 1)\n",
    "    combined.columns = ['Snow Events', 'Events/Station']\n",
    "    return combined\n",
    "\n",
    "def ranked_snow_events_stations(a_weather_df):\n",
    "    \"\"\"Returns\n",
    "    Dataframe with 3 columns, one row per state\n",
    "    Columns:\n",
    "        Snow Events = rank of the state in number of snow events, 1 = most\n",
    "        Events/Station = rank of the state inaverage number of snow events per station, 1 = most\n",
    "        Change = change in rank of state from Snow Events to Events/Station, \n",
    "              positive number indicates state ranked higher Events/Station \n",
    "    \"\"\"\n",
    "    \n",
    "    snow_station = snow_per_state_station(a_weather_df).rank(ascending = False)\n",
    "    snow_state = snow_per_state(a_weather_df).rank(ascending = False)\n",
    "    rank_delta = snow_state - snow_station\n",
    "    combined = pd.concat([snow_state, snow_station, rank_delta], axis = 1)\n",
    "    combined.columns = ['Snow Events', 'Events/Station', \"Change\"]\n",
    "    return combined"
   ]
  },
  {
   "cell_type": "markdown",
   "metadata": {},
   "source": [
    "Now the average number of snow events per station in each state. However it is hard to tell the difference from the number of snow events per state. But ND moved up and MN moved down."
   ]
  },
  {
   "cell_type": "code",
   "execution_count": 149,
   "metadata": {},
   "outputs": [
    {
     "data": {
      "text/plain": [
       "State\n",
       "MI    1033.175676\n",
       "VT     920.363636\n",
       "ND     906.000000\n",
       "MT     853.785714\n",
       "ME     813.000000\n",
       "WY     793.563636\n",
       "MN     764.958763\n",
       "NH     758.153846\n",
       "ID     721.888889\n",
       "WI     718.323077\n",
       "NY     714.800000\n",
       "SD     687.125000\n",
       "CO     616.419355\n",
       "PA     501.410256\n",
       "OH     496.380952\n",
       "WV     495.470588\n",
       "IA     440.133333\n",
       "NE     429.512821\n",
       "MA     417.173913\n",
       "IN     389.030303\n",
       "UT     364.608696\n",
       "CT     320.000000\n",
       "IL     300.500000\n",
       "WA     296.209302\n",
       "OR     272.363636\n",
       "NV     266.000000\n",
       "RI     255.000000\n",
       "DE     221.000000\n",
       "NJ     217.352941\n",
       "KY     209.576923\n",
       "NM     198.973684\n",
       "MO     171.575758\n",
       "VA     170.037736\n",
       "KS     159.944444\n",
       "AZ     134.405405\n",
       "MD     118.416667\n",
       "NC      66.027397\n",
       "TN      65.100000\n",
       "CA      64.644444\n",
       "OK      58.075472\n",
       "AR      41.742857\n",
       "SC      19.022727\n",
       "AL      18.945946\n",
       "MS      18.448276\n",
       "TX      18.412088\n",
       "GA      15.238806\n",
       "LA       8.911111\n",
       "FL       0.802326\n",
       "dtype: float64"
      ]
     },
     "execution_count": 149,
     "metadata": {},
     "output_type": "execute_result"
    }
   ],
   "source": [
    "snow_per_station = snow_per_state_station(weather_df)\n",
    "snow_per_station.sort_values(ascending = False)"
   ]
  },
  {
   "cell_type": "markdown",
   "metadata": {},
   "source": [
    "We can try displaying both at the same time. But this is not very useful."
   ]
  },
  {
   "cell_type": "code",
   "execution_count": 15,
   "metadata": {},
   "outputs": [
    {
     "data": {
      "text/html": [
       "<div>\n",
       "<style scoped>\n",
       "    .dataframe tbody tr th:only-of-type {\n",
       "        vertical-align: middle;\n",
       "    }\n",
       "\n",
       "    .dataframe tbody tr th {\n",
       "        vertical-align: top;\n",
       "    }\n",
       "\n",
       "    .dataframe thead th {\n",
       "        text-align: right;\n",
       "    }\n",
       "</style>\n",
       "<table border=\"1\" class=\"dataframe\">\n",
       "  <thead>\n",
       "    <tr style=\"text-align: right;\">\n",
       "      <th></th>\n",
       "      <th>Snow Events</th>\n",
       "      <th>Events/Station</th>\n",
       "    </tr>\n",
       "    <tr>\n",
       "      <th>State</th>\n",
       "      <th></th>\n",
       "      <th></th>\n",
       "    </tr>\n",
       "  </thead>\n",
       "  <tbody>\n",
       "    <tr>\n",
       "      <th>AL</th>\n",
       "      <td>701</td>\n",
       "      <td>18.945946</td>\n",
       "    </tr>\n",
       "    <tr>\n",
       "      <th>AR</th>\n",
       "      <td>1461</td>\n",
       "      <td>41.742857</td>\n",
       "    </tr>\n",
       "    <tr>\n",
       "      <th>AZ</th>\n",
       "      <td>4973</td>\n",
       "      <td>134.405405</td>\n",
       "    </tr>\n",
       "    <tr>\n",
       "      <th>CA</th>\n",
       "      <td>8727</td>\n",
       "      <td>64.644444</td>\n",
       "    </tr>\n",
       "    <tr>\n",
       "      <th>CO</th>\n",
       "      <td>38218</td>\n",
       "      <td>616.419355</td>\n",
       "    </tr>\n",
       "    <tr>\n",
       "      <th>CT</th>\n",
       "      <td>3200</td>\n",
       "      <td>320.000000</td>\n",
       "    </tr>\n",
       "    <tr>\n",
       "      <th>DE</th>\n",
       "      <td>663</td>\n",
       "      <td>221.000000</td>\n",
       "    </tr>\n",
       "    <tr>\n",
       "      <th>FL</th>\n",
       "      <td>69</td>\n",
       "      <td>0.802326</td>\n",
       "    </tr>\n",
       "    <tr>\n",
       "      <th>GA</th>\n",
       "      <td>1021</td>\n",
       "      <td>15.238806</td>\n",
       "    </tr>\n",
       "    <tr>\n",
       "      <th>IA</th>\n",
       "      <td>26408</td>\n",
       "      <td>440.133333</td>\n",
       "    </tr>\n",
       "    <tr>\n",
       "      <th>ID</th>\n",
       "      <td>19491</td>\n",
       "      <td>721.888889</td>\n",
       "    </tr>\n",
       "    <tr>\n",
       "      <th>IL</th>\n",
       "      <td>17429</td>\n",
       "      <td>300.500000</td>\n",
       "    </tr>\n",
       "    <tr>\n",
       "      <th>IN</th>\n",
       "      <td>12838</td>\n",
       "      <td>389.030303</td>\n",
       "    </tr>\n",
       "    <tr>\n",
       "      <th>KS</th>\n",
       "      <td>5758</td>\n",
       "      <td>159.944444</td>\n",
       "    </tr>\n",
       "    <tr>\n",
       "      <th>KY</th>\n",
       "      <td>5449</td>\n",
       "      <td>209.576923</td>\n",
       "    </tr>\n",
       "    <tr>\n",
       "      <th>LA</th>\n",
       "      <td>401</td>\n",
       "      <td>8.911111</td>\n",
       "    </tr>\n",
       "    <tr>\n",
       "      <th>MA</th>\n",
       "      <td>9595</td>\n",
       "      <td>417.173913</td>\n",
       "    </tr>\n",
       "    <tr>\n",
       "      <th>MD</th>\n",
       "      <td>2842</td>\n",
       "      <td>118.416667</td>\n",
       "    </tr>\n",
       "    <tr>\n",
       "      <th>ME</th>\n",
       "      <td>13821</td>\n",
       "      <td>813.000000</td>\n",
       "    </tr>\n",
       "    <tr>\n",
       "      <th>MI</th>\n",
       "      <td>76455</td>\n",
       "      <td>1033.175676</td>\n",
       "    </tr>\n",
       "    <tr>\n",
       "      <th>MN</th>\n",
       "      <td>74201</td>\n",
       "      <td>764.958763</td>\n",
       "    </tr>\n",
       "    <tr>\n",
       "      <th>MO</th>\n",
       "      <td>5662</td>\n",
       "      <td>171.575758</td>\n",
       "    </tr>\n",
       "    <tr>\n",
       "      <th>MS</th>\n",
       "      <td>535</td>\n",
       "      <td>18.448276</td>\n",
       "    </tr>\n",
       "    <tr>\n",
       "      <th>MT</th>\n",
       "      <td>23906</td>\n",
       "      <td>853.785714</td>\n",
       "    </tr>\n",
       "    <tr>\n",
       "      <th>NC</th>\n",
       "      <td>4820</td>\n",
       "      <td>66.027397</td>\n",
       "    </tr>\n",
       "    <tr>\n",
       "      <th>ND</th>\n",
       "      <td>33522</td>\n",
       "      <td>906.000000</td>\n",
       "    </tr>\n",
       "    <tr>\n",
       "      <th>NE</th>\n",
       "      <td>16751</td>\n",
       "      <td>429.512821</td>\n",
       "    </tr>\n",
       "    <tr>\n",
       "      <th>NH</th>\n",
       "      <td>9856</td>\n",
       "      <td>758.153846</td>\n",
       "    </tr>\n",
       "    <tr>\n",
       "      <th>NJ</th>\n",
       "      <td>3695</td>\n",
       "      <td>217.352941</td>\n",
       "    </tr>\n",
       "    <tr>\n",
       "      <th>NM</th>\n",
       "      <td>7561</td>\n",
       "      <td>198.973684</td>\n",
       "    </tr>\n",
       "    <tr>\n",
       "      <th>NV</th>\n",
       "      <td>5852</td>\n",
       "      <td>266.000000</td>\n",
       "    </tr>\n",
       "    <tr>\n",
       "      <th>NY</th>\n",
       "      <td>28592</td>\n",
       "      <td>714.800000</td>\n",
       "    </tr>\n",
       "    <tr>\n",
       "      <th>OH</th>\n",
       "      <td>20848</td>\n",
       "      <td>496.380952</td>\n",
       "    </tr>\n",
       "    <tr>\n",
       "      <th>OK</th>\n",
       "      <td>3078</td>\n",
       "      <td>58.075472</td>\n",
       "    </tr>\n",
       "    <tr>\n",
       "      <th>OR</th>\n",
       "      <td>8988</td>\n",
       "      <td>272.363636</td>\n",
       "    </tr>\n",
       "    <tr>\n",
       "      <th>PA</th>\n",
       "      <td>19555</td>\n",
       "      <td>501.410256</td>\n",
       "    </tr>\n",
       "    <tr>\n",
       "      <th>RI</th>\n",
       "      <td>1530</td>\n",
       "      <td>255.000000</td>\n",
       "    </tr>\n",
       "    <tr>\n",
       "      <th>SC</th>\n",
       "      <td>837</td>\n",
       "      <td>19.022727</td>\n",
       "    </tr>\n",
       "    <tr>\n",
       "      <th>SD</th>\n",
       "      <td>16491</td>\n",
       "      <td>687.125000</td>\n",
       "    </tr>\n",
       "    <tr>\n",
       "      <th>TN</th>\n",
       "      <td>1302</td>\n",
       "      <td>65.100000</td>\n",
       "    </tr>\n",
       "    <tr>\n",
       "      <th>TX</th>\n",
       "      <td>3351</td>\n",
       "      <td>18.412088</td>\n",
       "    </tr>\n",
       "    <tr>\n",
       "      <th>UT</th>\n",
       "      <td>8386</td>\n",
       "      <td>364.608696</td>\n",
       "    </tr>\n",
       "    <tr>\n",
       "      <th>VA</th>\n",
       "      <td>9012</td>\n",
       "      <td>170.037736</td>\n",
       "    </tr>\n",
       "    <tr>\n",
       "      <th>VT</th>\n",
       "      <td>10124</td>\n",
       "      <td>920.363636</td>\n",
       "    </tr>\n",
       "    <tr>\n",
       "      <th>WA</th>\n",
       "      <td>12737</td>\n",
       "      <td>296.209302</td>\n",
       "    </tr>\n",
       "    <tr>\n",
       "      <th>WI</th>\n",
       "      <td>46691</td>\n",
       "      <td>718.323077</td>\n",
       "    </tr>\n",
       "    <tr>\n",
       "      <th>WV</th>\n",
       "      <td>8423</td>\n",
       "      <td>495.470588</td>\n",
       "    </tr>\n",
       "    <tr>\n",
       "      <th>WY</th>\n",
       "      <td>43646</td>\n",
       "      <td>793.563636</td>\n",
       "    </tr>\n",
       "  </tbody>\n",
       "</table>\n",
       "</div>"
      ],
      "text/plain": [
       "       Snow Events  Events/Station\n",
       "State                             \n",
       "AL             701       18.945946\n",
       "AR            1461       41.742857\n",
       "AZ            4973      134.405405\n",
       "CA            8727       64.644444\n",
       "CO           38218      616.419355\n",
       "CT            3200      320.000000\n",
       "DE             663      221.000000\n",
       "FL              69        0.802326\n",
       "GA            1021       15.238806\n",
       "IA           26408      440.133333\n",
       "ID           19491      721.888889\n",
       "IL           17429      300.500000\n",
       "IN           12838      389.030303\n",
       "KS            5758      159.944444\n",
       "KY            5449      209.576923\n",
       "LA             401        8.911111\n",
       "MA            9595      417.173913\n",
       "MD            2842      118.416667\n",
       "ME           13821      813.000000\n",
       "MI           76455     1033.175676\n",
       "MN           74201      764.958763\n",
       "MO            5662      171.575758\n",
       "MS             535       18.448276\n",
       "MT           23906      853.785714\n",
       "NC            4820       66.027397\n",
       "ND           33522      906.000000\n",
       "NE           16751      429.512821\n",
       "NH            9856      758.153846\n",
       "NJ            3695      217.352941\n",
       "NM            7561      198.973684\n",
       "NV            5852      266.000000\n",
       "NY           28592      714.800000\n",
       "OH           20848      496.380952\n",
       "OK            3078       58.075472\n",
       "OR            8988      272.363636\n",
       "PA           19555      501.410256\n",
       "RI            1530      255.000000\n",
       "SC             837       19.022727\n",
       "SD           16491      687.125000\n",
       "TN            1302       65.100000\n",
       "TX            3351       18.412088\n",
       "UT            8386      364.608696\n",
       "VA            9012      170.037736\n",
       "VT           10124      920.363636\n",
       "WA           12737      296.209302\n",
       "WI           46691      718.323077\n",
       "WV            8423      495.470588\n",
       "WY           43646      793.563636"
      ]
     },
     "execution_count": 15,
     "metadata": {},
     "output_type": "execute_result"
    }
   ],
   "source": [
    "both = combined_snow_events_stations(weather_df)\n",
    "both"
   ]
  },
  {
   "cell_type": "markdown",
   "metadata": {},
   "source": [
    "Computing the ranks of the states in number of snow events and snow events per station makes it easier to see the changes. Small states like RI, VT, NH and sparsely populated states like ND, MT rank higher is snow events per station. WY a sparsely populated state actually moved down."
   ]
  },
  {
   "cell_type": "code",
   "execution_count": 154,
   "metadata": {
    "scrolled": true
   },
   "outputs": [
    {
     "data": {
      "text/html": [
       "<div>\n",
       "<style scoped>\n",
       "    .dataframe tbody tr th:only-of-type {\n",
       "        vertical-align: middle;\n",
       "    }\n",
       "\n",
       "    .dataframe tbody tr th {\n",
       "        vertical-align: top;\n",
       "    }\n",
       "\n",
       "    .dataframe thead th {\n",
       "        text-align: right;\n",
       "    }\n",
       "</style>\n",
       "<table border=\"1\" class=\"dataframe\">\n",
       "  <thead>\n",
       "    <tr style=\"text-align: right;\">\n",
       "      <th></th>\n",
       "      <th>Snow Events</th>\n",
       "      <th>Events/Station</th>\n",
       "      <th>Change</th>\n",
       "    </tr>\n",
       "    <tr>\n",
       "      <th>State</th>\n",
       "      <th></th>\n",
       "      <th></th>\n",
       "      <th></th>\n",
       "    </tr>\n",
       "  </thead>\n",
       "  <tbody>\n",
       "    <tr>\n",
       "      <th>AL</th>\n",
       "      <td>44.0</td>\n",
       "      <td>43.0</td>\n",
       "      <td>1.0</td>\n",
       "    </tr>\n",
       "    <tr>\n",
       "      <th>AR</th>\n",
       "      <td>40.0</td>\n",
       "      <td>41.0</td>\n",
       "      <td>-1.0</td>\n",
       "    </tr>\n",
       "    <tr>\n",
       "      <th>AZ</th>\n",
       "      <td>32.0</td>\n",
       "      <td>35.0</td>\n",
       "      <td>-3.0</td>\n",
       "    </tr>\n",
       "    <tr>\n",
       "      <th>CA</th>\n",
       "      <td>24.0</td>\n",
       "      <td>39.0</td>\n",
       "      <td>-15.0</td>\n",
       "    </tr>\n",
       "    <tr>\n",
       "      <th>CO</th>\n",
       "      <td>5.0</td>\n",
       "      <td>13.0</td>\n",
       "      <td>-8.0</td>\n",
       "    </tr>\n",
       "    <tr>\n",
       "      <th>CT</th>\n",
       "      <td>36.0</td>\n",
       "      <td>22.0</td>\n",
       "      <td>14.0</td>\n",
       "    </tr>\n",
       "    <tr>\n",
       "      <th>DE</th>\n",
       "      <td>45.0</td>\n",
       "      <td>28.0</td>\n",
       "      <td>17.0</td>\n",
       "    </tr>\n",
       "    <tr>\n",
       "      <th>FL</th>\n",
       "      <td>48.0</td>\n",
       "      <td>48.0</td>\n",
       "      <td>0.0</td>\n",
       "    </tr>\n",
       "    <tr>\n",
       "      <th>GA</th>\n",
       "      <td>42.0</td>\n",
       "      <td>46.0</td>\n",
       "      <td>-4.0</td>\n",
       "    </tr>\n",
       "    <tr>\n",
       "      <th>IA</th>\n",
       "      <td>8.0</td>\n",
       "      <td>17.0</td>\n",
       "      <td>-9.0</td>\n",
       "    </tr>\n",
       "    <tr>\n",
       "      <th>ID</th>\n",
       "      <td>12.0</td>\n",
       "      <td>9.0</td>\n",
       "      <td>3.0</td>\n",
       "    </tr>\n",
       "    <tr>\n",
       "      <th>IL</th>\n",
       "      <td>13.0</td>\n",
       "      <td>23.0</td>\n",
       "      <td>-10.0</td>\n",
       "    </tr>\n",
       "    <tr>\n",
       "      <th>IN</th>\n",
       "      <td>17.0</td>\n",
       "      <td>20.0</td>\n",
       "      <td>-3.0</td>\n",
       "    </tr>\n",
       "    <tr>\n",
       "      <th>KS</th>\n",
       "      <td>29.0</td>\n",
       "      <td>34.0</td>\n",
       "      <td>-5.0</td>\n",
       "    </tr>\n",
       "    <tr>\n",
       "      <th>KY</th>\n",
       "      <td>31.0</td>\n",
       "      <td>30.0</td>\n",
       "      <td>1.0</td>\n",
       "    </tr>\n",
       "    <tr>\n",
       "      <th>LA</th>\n",
       "      <td>47.0</td>\n",
       "      <td>47.0</td>\n",
       "      <td>0.0</td>\n",
       "    </tr>\n",
       "    <tr>\n",
       "      <th>MA</th>\n",
       "      <td>21.0</td>\n",
       "      <td>19.0</td>\n",
       "      <td>2.0</td>\n",
       "    </tr>\n",
       "    <tr>\n",
       "      <th>MD</th>\n",
       "      <td>38.0</td>\n",
       "      <td>36.0</td>\n",
       "      <td>2.0</td>\n",
       "    </tr>\n",
       "    <tr>\n",
       "      <th>ME</th>\n",
       "      <td>16.0</td>\n",
       "      <td>5.0</td>\n",
       "      <td>11.0</td>\n",
       "    </tr>\n",
       "    <tr>\n",
       "      <th>MI</th>\n",
       "      <td>1.0</td>\n",
       "      <td>1.0</td>\n",
       "      <td>0.0</td>\n",
       "    </tr>\n",
       "    <tr>\n",
       "      <th>MN</th>\n",
       "      <td>2.0</td>\n",
       "      <td>7.0</td>\n",
       "      <td>-5.0</td>\n",
       "    </tr>\n",
       "    <tr>\n",
       "      <th>MO</th>\n",
       "      <td>30.0</td>\n",
       "      <td>32.0</td>\n",
       "      <td>-2.0</td>\n",
       "    </tr>\n",
       "    <tr>\n",
       "      <th>MS</th>\n",
       "      <td>46.0</td>\n",
       "      <td>44.0</td>\n",
       "      <td>2.0</td>\n",
       "    </tr>\n",
       "    <tr>\n",
       "      <th>MT</th>\n",
       "      <td>9.0</td>\n",
       "      <td>4.0</td>\n",
       "      <td>5.0</td>\n",
       "    </tr>\n",
       "    <tr>\n",
       "      <th>NC</th>\n",
       "      <td>33.0</td>\n",
       "      <td>37.0</td>\n",
       "      <td>-4.0</td>\n",
       "    </tr>\n",
       "    <tr>\n",
       "      <th>ND</th>\n",
       "      <td>6.0</td>\n",
       "      <td>3.0</td>\n",
       "      <td>3.0</td>\n",
       "    </tr>\n",
       "    <tr>\n",
       "      <th>NE</th>\n",
       "      <td>14.0</td>\n",
       "      <td>18.0</td>\n",
       "      <td>-4.0</td>\n",
       "    </tr>\n",
       "    <tr>\n",
       "      <th>NH</th>\n",
       "      <td>20.0</td>\n",
       "      <td>8.0</td>\n",
       "      <td>12.0</td>\n",
       "    </tr>\n",
       "    <tr>\n",
       "      <th>NJ</th>\n",
       "      <td>34.0</td>\n",
       "      <td>29.0</td>\n",
       "      <td>5.0</td>\n",
       "    </tr>\n",
       "    <tr>\n",
       "      <th>NM</th>\n",
       "      <td>27.0</td>\n",
       "      <td>31.0</td>\n",
       "      <td>-4.0</td>\n",
       "    </tr>\n",
       "    <tr>\n",
       "      <th>NV</th>\n",
       "      <td>28.0</td>\n",
       "      <td>26.0</td>\n",
       "      <td>2.0</td>\n",
       "    </tr>\n",
       "    <tr>\n",
       "      <th>NY</th>\n",
       "      <td>7.0</td>\n",
       "      <td>11.0</td>\n",
       "      <td>-4.0</td>\n",
       "    </tr>\n",
       "    <tr>\n",
       "      <th>OH</th>\n",
       "      <td>10.0</td>\n",
       "      <td>15.0</td>\n",
       "      <td>-5.0</td>\n",
       "    </tr>\n",
       "    <tr>\n",
       "      <th>OK</th>\n",
       "      <td>37.0</td>\n",
       "      <td>40.0</td>\n",
       "      <td>-3.0</td>\n",
       "    </tr>\n",
       "    <tr>\n",
       "      <th>OR</th>\n",
       "      <td>23.0</td>\n",
       "      <td>25.0</td>\n",
       "      <td>-2.0</td>\n",
       "    </tr>\n",
       "    <tr>\n",
       "      <th>PA</th>\n",
       "      <td>11.0</td>\n",
       "      <td>14.0</td>\n",
       "      <td>-3.0</td>\n",
       "    </tr>\n",
       "    <tr>\n",
       "      <th>RI</th>\n",
       "      <td>39.0</td>\n",
       "      <td>27.0</td>\n",
       "      <td>12.0</td>\n",
       "    </tr>\n",
       "    <tr>\n",
       "      <th>SC</th>\n",
       "      <td>43.0</td>\n",
       "      <td>42.0</td>\n",
       "      <td>1.0</td>\n",
       "    </tr>\n",
       "    <tr>\n",
       "      <th>SD</th>\n",
       "      <td>15.0</td>\n",
       "      <td>12.0</td>\n",
       "      <td>3.0</td>\n",
       "    </tr>\n",
       "    <tr>\n",
       "      <th>TN</th>\n",
       "      <td>41.0</td>\n",
       "      <td>38.0</td>\n",
       "      <td>3.0</td>\n",
       "    </tr>\n",
       "    <tr>\n",
       "      <th>TX</th>\n",
       "      <td>35.0</td>\n",
       "      <td>45.0</td>\n",
       "      <td>-10.0</td>\n",
       "    </tr>\n",
       "    <tr>\n",
       "      <th>UT</th>\n",
       "      <td>26.0</td>\n",
       "      <td>21.0</td>\n",
       "      <td>5.0</td>\n",
       "    </tr>\n",
       "    <tr>\n",
       "      <th>VA</th>\n",
       "      <td>22.0</td>\n",
       "      <td>33.0</td>\n",
       "      <td>-11.0</td>\n",
       "    </tr>\n",
       "    <tr>\n",
       "      <th>VT</th>\n",
       "      <td>19.0</td>\n",
       "      <td>2.0</td>\n",
       "      <td>17.0</td>\n",
       "    </tr>\n",
       "    <tr>\n",
       "      <th>WA</th>\n",
       "      <td>18.0</td>\n",
       "      <td>24.0</td>\n",
       "      <td>-6.0</td>\n",
       "    </tr>\n",
       "    <tr>\n",
       "      <th>WI</th>\n",
       "      <td>3.0</td>\n",
       "      <td>10.0</td>\n",
       "      <td>-7.0</td>\n",
       "    </tr>\n",
       "    <tr>\n",
       "      <th>WV</th>\n",
       "      <td>25.0</td>\n",
       "      <td>16.0</td>\n",
       "      <td>9.0</td>\n",
       "    </tr>\n",
       "    <tr>\n",
       "      <th>WY</th>\n",
       "      <td>4.0</td>\n",
       "      <td>6.0</td>\n",
       "      <td>-2.0</td>\n",
       "    </tr>\n",
       "  </tbody>\n",
       "</table>\n",
       "</div>"
      ],
      "text/plain": [
       "       Snow Events  Events/Station  Change\n",
       "State                                     \n",
       "AL            44.0            43.0     1.0\n",
       "AR            40.0            41.0    -1.0\n",
       "AZ            32.0            35.0    -3.0\n",
       "CA            24.0            39.0   -15.0\n",
       "CO             5.0            13.0    -8.0\n",
       "CT            36.0            22.0    14.0\n",
       "DE            45.0            28.0    17.0\n",
       "FL            48.0            48.0     0.0\n",
       "GA            42.0            46.0    -4.0\n",
       "IA             8.0            17.0    -9.0\n",
       "ID            12.0             9.0     3.0\n",
       "IL            13.0            23.0   -10.0\n",
       "IN            17.0            20.0    -3.0\n",
       "KS            29.0            34.0    -5.0\n",
       "KY            31.0            30.0     1.0\n",
       "LA            47.0            47.0     0.0\n",
       "MA            21.0            19.0     2.0\n",
       "MD            38.0            36.0     2.0\n",
       "ME            16.0             5.0    11.0\n",
       "MI             1.0             1.0     0.0\n",
       "MN             2.0             7.0    -5.0\n",
       "MO            30.0            32.0    -2.0\n",
       "MS            46.0            44.0     2.0\n",
       "MT             9.0             4.0     5.0\n",
       "NC            33.0            37.0    -4.0\n",
       "ND             6.0             3.0     3.0\n",
       "NE            14.0            18.0    -4.0\n",
       "NH            20.0             8.0    12.0\n",
       "NJ            34.0            29.0     5.0\n",
       "NM            27.0            31.0    -4.0\n",
       "NV            28.0            26.0     2.0\n",
       "NY             7.0            11.0    -4.0\n",
       "OH            10.0            15.0    -5.0\n",
       "OK            37.0            40.0    -3.0\n",
       "OR            23.0            25.0    -2.0\n",
       "PA            11.0            14.0    -3.0\n",
       "RI            39.0            27.0    12.0\n",
       "SC            43.0            42.0     1.0\n",
       "SD            15.0            12.0     3.0\n",
       "TN            41.0            38.0     3.0\n",
       "TX            35.0            45.0   -10.0\n",
       "UT            26.0            21.0     5.0\n",
       "VA            22.0            33.0   -11.0\n",
       "VT            19.0             2.0    17.0\n",
       "WA            18.0            24.0    -6.0\n",
       "WI             3.0            10.0    -7.0\n",
       "WV            25.0            16.0     9.0\n",
       "WY             4.0             6.0    -2.0"
      ]
     },
     "execution_count": 154,
     "metadata": {},
     "output_type": "execute_result"
    }
   ],
   "source": [
    "ranked = ranked_snow_events_stations(weather_df)\n",
    "ranked"
   ]
  },
  {
   "cell_type": "markdown",
   "metadata": {},
   "source": [
    "## Question 4\n",
    "How many snow events were recorded each hour?"
   ]
  },
  {
   "cell_type": "markdown",
   "metadata": {},
   "source": [
    "We can use the function count_time from question 2. We just need function that returns the hours of the day (0- 23) given a start and ending timestamp. The hours function below does that. The basic process is to add an hour to the start time until we reach the end time. Use a list comprehension to collect the resulting hours. To make sure we include the start and end hours we use a lower bound for the start time and an upper bound for the end time."
   ]
  },
  {
   "cell_type": "code",
   "execution_count": 16,
   "metadata": {},
   "outputs": [],
   "source": [
    "import datetime as dt\n",
    "\n",
    "def timedelta_to_hours(atimedelta):\n",
    "    \"\"\"returns the number of hours in a timedelta object\"\"\"\n",
    "    \n",
    "    import math\n",
    "    return math.ceil(atimedelta.days * 24 + atimedelta.seconds / 3600)\n",
    "\n",
    "def hour_ceil(atimestamp):\n",
    "    \"\"\"The goal is to generate the hours (0-23) from a start time to end time.\n",
    "       To generate the hours we add hours to start \n",
    "       until we reach the hour of end. We need make sure to get the hour of end.\n",
    "       This requires our stop check to be larger that the end. This function\n",
    "       generates the correct end check time.\n",
    "       If start = '2019-12-04 20:59:59' and end = '2019-12-04 21:00:00' when\n",
    "       we add 1 hour to start we get a time greater than the end, so will not\n",
    "       pick up hour 21. In this case we add 59 minutes and 59 seconds to the end.\n",
    "       Otherwise we can drop the minutes and seconds and add 1 to the hours.\n",
    "       \"\"\"\n",
    "    \n",
    "    if (atimestamp.minute == 0):\n",
    "        return atimestamp + dt.timedelta(minutes = 59) + dt.timedelta(seconds = 59)\n",
    "    return dt.datetime(atimestamp.year,\n",
    "                        atimestamp.month,\n",
    "                        atimestamp.day,\n",
    "                        hour = atimestamp.hour) + dt.timedelta(minutes = 60)\n",
    "\n",
    "def hour_floor(atimestamp):\n",
    "    return dt.datetime(atimestamp.year,\n",
    "                        atimestamp.month,\n",
    "                        atimestamp.day,\n",
    "                        hour = atimestamp.hour)\n",
    "\n",
    "def add_hours(atimestamp, hours):\n",
    "    \"\"\"Add given int hours to a timestamp\"\"\"\n",
    "    \n",
    "    return atimestamp + dt.timedelta(hours = hours)\n",
    "\n",
    "def string_to_timestamp(string):\n",
    "    \"\"\"Convert a string ('2019-12-07 2:00:00') to timestamp\"\"\"\n",
    "    \n",
    "    return dt.datetime.strptime(string, '%Y-%m-%d %H:%M:%S')\n",
    "\n",
    "def hours(start,end):\n",
    "    \"\"\"start and end are strings representing a timestamp ('2019-12-07 2:00:00')\n",
    "       start has to be before end\n",
    "    Returns list of hours of the day from start time to end time, including\n",
    "       start and end\n",
    "       \"\"\"\n",
    "    start_timestamp = hour_floor(string_to_timestamp(start))\n",
    "    end_timestamp = hour_ceil(string_to_timestamp(end))\n",
    "    hourrange = range(timedelta_to_hours(end_timestamp - start_timestamp))\n",
    "    return [add_hours(start_timestamp, x).hour for x in hourrange\n",
    "            if add_hours(start_timestamp,x) <= end_timestamp]\n",
    "\n",
    "def df_hours(series):\n",
    "    \"\"\"Same as hours, but start and end dates are in a series\n",
    "    Needs for apply function\"\"\"\n",
    "    return hours(series[0], series[1])"
   ]
  },
  {
   "cell_type": "markdown",
   "metadata": {},
   "source": [
    "Some tests"
   ]
  },
  {
   "cell_type": "code",
   "execution_count": 17,
   "metadata": {},
   "outputs": [],
   "source": [
    "assert(22 == hour_ceil(string_to_timestamp('2019-12-04 21:52:00')).hour)\n",
    "assert(22 == hour_ceil(string_to_timestamp('2019-12-04 21:00:01')).hour)\n",
    "assert(21 == hour_ceil(string_to_timestamp('2019-12-04 21:00:00')).hour)\n",
    "\n",
    "assert([21] == hours('2019-12-04 21:00:00','2019-12-04 21:59:00'))\n",
    "assert([21, 22] == hours('2019-12-04 21:01:00','2019-12-04 22:02:00'))\n",
    "assert([21] == hours('2019-12-04 21:59:00','2019-12-04 21:59:59'))\n",
    "assert([21, 22] == hours('2019-12-04 21:59:00','2019-12-04 22:00:00'))\n",
    "assert([23, 0] == hours('2019-12-04 23:59:00','2019-12-05 0:00:00'))\n",
    "assert([23, 0] == hours('2019-12-31 23:59:00','2020-01-01 0:00:00'))\n",
    "assert(list(range(1,23)) == hours('2019-12-04 1:01:00','2019-12-04 22:00:00'))\n",
    "assert([x % 24 for x in range(1,75)] == hours('2019-12-04 1:00:00','2019-12-07 2:00:00'))\n",
    "assert([21, 22] == hours('2019-12-04 21:59:59','2019-12-04 22:00:00'))\n"
   ]
  },
  {
   "cell_type": "code",
   "execution_count": 19,
   "metadata": {},
   "outputs": [],
   "source": [
    "def hourly_weather(a_weather_df, type):\n",
    "    yearly = a_weather_df.loc[a_weather_df['Type'] == type]\n",
    "    return count_time(yearly, df_hours)\n"
   ]
  },
  {
   "cell_type": "code",
   "execution_count": 20,
   "metadata": {},
   "outputs": [
    {
     "data": {
      "text/plain": [
       "0     69307\n",
       "1     69887\n",
       "2     70770\n",
       "3     71481\n",
       "4     72480\n",
       "5     73039\n",
       "6     73997\n",
       "7     74612\n",
       "8     75731\n",
       "9     76846\n",
       "10    78241\n",
       "11    79926\n",
       "12    80882\n",
       "13    82140\n",
       "14    84048\n",
       "15    83848\n",
       "16    81291\n",
       "17    77469\n",
       "18    74021\n",
       "19    72086\n",
       "20    71003\n",
       "21    69954\n",
       "22    69491\n",
       "23    69113\n",
       "dtype: int64"
      ]
     },
     "execution_count": 20,
     "metadata": {},
     "output_type": "execute_result"
    }
   ],
   "source": [
    "hourly_weather(weather_df, 'Snow')"
   ]
  },
  {
   "cell_type": "markdown",
   "metadata": {},
   "source": [
    "The plot makes it easier to see the trend"
   ]
  },
  {
   "cell_type": "code",
   "execution_count": 21,
   "metadata": {
    "scrolled": true
   },
   "outputs": [
    {
     "data": {
      "text/plain": [
       "<matplotlib.axes._subplots.AxesSubplot at 0x24bc1c891c8>"
      ]
     },
     "execution_count": 21,
     "metadata": {},
     "output_type": "execute_result"
    },
    {
     "data": {
      "image/png": "[encoded data removed]",
      "text/plain": [
       "<Figure size 432x288 with 1 Axes>"
      ]
     },
     "metadata": {
      "needs_background": "light"
     },
     "output_type": "display_data"
    }
   ],
   "source": [
    "hourly_weather(weather_df, 'Snow').plot()"
   ]
  },
  {
   "cell_type": "markdown",
   "metadata": {},
   "source": [
    "The plot for rain is almost the opposite of that for snow. "
   ]
  },
  {
   "cell_type": "code",
   "execution_count": 23,
   "metadata": {
    "scrolled": true
   },
   "outputs": [
    {
     "data": {
      "text/plain": [
       "<matplotlib.axes._subplots.AxesSubplot at 0x24c6f9b1088>"
      ]
     },
     "execution_count": 23,
     "metadata": {},
     "output_type": "execute_result"
    },
    {
     "data": {
      "image/png": "[encoded data removed]",
      "text/plain": [
       "<Figure size 432x288 with 1 Axes>"
      ]
     },
     "metadata": {
      "needs_background": "light"
     },
     "output_type": "display_data"
    }
   ],
   "source": [
    "hourly_weather(weather_df, 'Rain').plot()"
   ]
  },
  {
   "cell_type": "markdown",
   "metadata": {},
   "source": [
    "The fog plot is similar to snow. So some more invesitgation is called for."
   ]
  },
  {
   "cell_type": "code",
   "execution_count": 24,
   "metadata": {},
   "outputs": [
    {
     "data": {
      "text/plain": [
       "<matplotlib.axes._subplots.AxesSubplot at 0x24c9112c548>"
      ]
     },
     "execution_count": 24,
     "metadata": {},
     "output_type": "execute_result"
    },
    {
     "data": {
      "image/png": "[encoded data removed]",
      "text/plain": [
       "<Figure size 432x288 with 1 Axes>"
      ]
     },
     "metadata": {
      "needs_background": "light"
     },
     "output_type": "display_data"
    }
   ],
   "source": [
    "hourly_weather(weather_df, 'Fog').plot()"
   ]
  },
  {
   "cell_type": "markdown",
   "metadata": {},
   "source": [
    "This is where we see the limitation of Python. Running hourly_weather fully utilizes one of my cores, while the rest are idle. "
   ]
  },
  {
   "cell_type": "code",
   "execution_count": 25,
   "metadata": {},
   "outputs": [
    {
     "name": "stdout",
     "output_type": "stream",
     "text": [
      "8min 2s ± 37.9 s per loop (mean ± std. dev. of 7 runs, 1 loop each)\n"
     ]
    }
   ],
   "source": [
    "%timeit hourly_weather(weather_df, 'Snow')"
   ]
  },
  {
   "cell_type": "markdown",
   "metadata": {},
   "source": [
    "## Question 5\n",
    "How many events of each severity did San Diego have? Produce a table and bar plot."
   ]
  },
  {
   "cell_type": "markdown",
   "metadata": {},
   "source": [
    "Just need to filter rows with City as San Diego and use the column_group_count function from question 1. No surprise as 45% of the events are light. I find the percent results easier to judge."
   ]
  },
  {
   "cell_type": "code",
   "execution_count": 26,
   "metadata": {},
   "outputs": [],
   "source": [
    "def san_diego_events(a_weather_df):\n",
    "    return a_weather_df[a_weather_df['City'] == 'San Diego']"
   ]
  },
  {
   "cell_type": "code",
   "execution_count": 27,
   "metadata": {},
   "outputs": [
    {
     "data": {
      "text/plain": [
       "Severity\n",
       "Light       2870\n",
       "Moderate    1992\n",
       "Severe      1365\n",
       "Heavy         62\n",
       "UNK           15\n",
       "Other          3\n",
       "dtype: int64"
      ]
     },
     "execution_count": 27,
     "metadata": {},
     "output_type": "execute_result"
    }
   ],
   "source": [
    "san_diego = san_diego_events(weather_df)\n",
    "\n",
    "severity = column_group_count(san_diego, 'Severity')\n",
    "severity.sort_values(ascending = False)"
   ]
  },
  {
   "cell_type": "code",
   "execution_count": 28,
   "metadata": {},
   "outputs": [
    {
     "data": {
      "text/plain": [
       "Severity\n",
       "Light       45.504994\n",
       "Moderate    31.583954\n",
       "Severe      21.642619\n",
       "Heavy        0.983035\n",
       "UNK          0.237831\n",
       "Other        0.047566\n",
       "dtype: float64"
      ]
     },
     "execution_count": 28,
     "metadata": {},
     "output_type": "execute_result"
    }
   ],
   "source": [
    "severity_percent = column_group_percent(san_diego, 'Severity')\n",
    "severity_percent.sort_values(ascending = False)"
   ]
  },
  {
   "cell_type": "code",
   "execution_count": 29,
   "metadata": {},
   "outputs": [
    {
     "data": {
      "text/plain": [
       "<matplotlib.axes._subplots.AxesSubplot at 0x24c540af3c8>"
      ]
     },
     "execution_count": 29,
     "metadata": {},
     "output_type": "execute_result"
    },
    {
     "data": {
      "image/png": "[encoded data removed]",
      "text/plain": [
       "<Figure size 432x288 with 1 Axes>"
      ]
     },
     "metadata": {
      "needs_background": "light"
     },
     "output_type": "display_data"
    }
   ],
   "source": [
    "severity.plot.bar()"
   ]
  },
  {
   "cell_type": "code",
   "execution_count": null,
   "metadata": {},
   "outputs": [],
   "source": []
  }
 ],
 "metadata": {
  "kernelspec": {
   "display_name": "Python 3",
   "language": "python",
   "name": "python3"
  },
  "language_info": {
   "codemirror_mode": {
    "name": "ipython",
    "version": 3
   },
   "file_extension": ".py",
   "mimetype": "text/x-python",
   "name": "python",
   "nbconvert_exporter": "python",
   "pygments_lexer": "ipython3",
   "version": "3.7.4"
  }
 },
 "nbformat": 4,
 "nbformat_minor": 4
}
